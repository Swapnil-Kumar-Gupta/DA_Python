{
 "cells": [
  {
   "cell_type": "code",
   "execution_count": 20,
   "id": "665e6793-d163-4698-8827-e89e2c28f37d",
   "metadata": {},
   "outputs": [],
   "source": [
    "import numpy as np\n",
    "import pandas as pd"
   ]
  },
  {
   "cell_type": "code",
   "execution_count": 22,
   "id": "e3b94933-1e3e-4c91-bf1e-af1e8de42764",
   "metadata": {},
   "outputs": [
    {
     "name": "stdout",
     "output_type": "stream",
     "text": [
      "0      Red\n",
      "1    Green\n",
      "2     Blue\n",
      "dtype: object\n"
     ]
    }
   ],
   "source": [
    "# 1) Create a series of three different colors \n",
    "colors=pd.Series([\"Red\",\"Green\",\"Blue\"])\n",
    "print(colors)"
   ]
  },
  {
   "cell_type": "code",
   "execution_count": 23,
   "id": "639d5bd3-8e70-48cc-a91e-dd61c4e4375a",
   "metadata": {},
   "outputs": [
    {
     "data": {
      "text/plain": [
       "0      Red\n",
       "1    Green\n",
       "2     Blue\n",
       "dtype: object"
      ]
     },
     "execution_count": 23,
     "metadata": {},
     "output_type": "execute_result"
    }
   ],
   "source": [
    "# 2) View the series of different colors \n",
    "colors"
   ]
  },
  {
   "cell_type": "code",
   "execution_count": 24,
   "id": "fb5fe6c8-edf8-44a1-aef3-a6f65468db6d",
   "metadata": {},
   "outputs": [
    {
     "data": {
      "text/plain": [
       "0     KIA\n",
       "1    THAR\n",
       "2     BMW\n",
       "dtype: object"
      ]
     },
     "execution_count": 24,
     "metadata": {},
     "output_type": "execute_result"
    }
   ],
   "source": [
    "# 3) Create a series of three different car types and view it \n",
    "car=pd.Series([\"KIA\",\"THAR\",\"BMW\"])\n",
    "car"
   ]
  },
  {
   "cell_type": "code",
   "execution_count": 27,
   "id": "73d4b746-58e1-4757-91f8-b78adc021e7e",
   "metadata": {},
   "outputs": [
    {
     "data": {
      "text/html": [
       "<div>\n",
       "<style scoped>\n",
       "    .dataframe tbody tr th:only-of-type {\n",
       "        vertical-align: middle;\n",
       "    }\n",
       "\n",
       "    .dataframe tbody tr th {\n",
       "        vertical-align: top;\n",
       "    }\n",
       "\n",
       "    .dataframe thead th {\n",
       "        text-align: right;\n",
       "    }\n",
       "</style>\n",
       "<table border=\"1\" class=\"dataframe\">\n",
       "  <thead>\n",
       "    <tr style=\"text-align: right;\">\n",
       "      <th></th>\n",
       "      <th>car</th>\n",
       "      <th>colors</th>\n",
       "      <th>Year</th>\n",
       "      <th>Price</th>\n",
       "    </tr>\n",
       "  </thead>\n",
       "  <tbody>\n",
       "    <tr>\n",
       "      <th>0</th>\n",
       "      <td>KIA</td>\n",
       "      <td>Red</td>\n",
       "      <td>2020</td>\n",
       "      <td>20000.50</td>\n",
       "    </tr>\n",
       "    <tr>\n",
       "      <th>1</th>\n",
       "      <td>THAR</td>\n",
       "      <td>Green</td>\n",
       "      <td>2021</td>\n",
       "      <td>30000.75</td>\n",
       "    </tr>\n",
       "    <tr>\n",
       "      <th>2</th>\n",
       "      <td>BMW</td>\n",
       "      <td>Blue</td>\n",
       "      <td>2022</td>\n",
       "      <td>25000.00</td>\n",
       "    </tr>\n",
       "  </tbody>\n",
       "</table>\n",
       "</div>"
      ],
      "text/plain": [
       "    car colors  Year     Price\n",
       "0   KIA    Red  2020  20000.50\n",
       "1  THAR  Green  2021  30000.75\n",
       "2   BMW   Blue  2022  25000.00"
      ]
     },
     "execution_count": 27,
     "metadata": {},
     "output_type": "execute_result"
    }
   ],
   "source": [
    "# 4) Combine the Series of cars and colors into a Data Frame \n",
    "Combined=pd.DataFrame({\"car\":car,\"colors\":colors,\"Year\": [2020, 2021, 2022],\n",
    "    \"Price\": [20000.5, 30000.75, 25000.0]})\n",
    "Combined"
   ]
  },
  {
   "cell_type": "code",
   "execution_count": 28,
   "id": "19782de9-cd78-4822-84af-5b7f86cede81",
   "metadata": {},
   "outputs": [
    {
     "name": "stdout",
     "output_type": "stream",
     "text": [
      "car        object\n",
      "colors     object\n",
      "Year        int64\n",
      "Price     float64\n",
      "dtype: object\n"
     ]
    }
   ],
   "source": [
    "# 5) Find the different datatypes of the car data Data Frame \n",
    "print(Combined.dtypes)"
   ]
  },
  {
   "cell_type": "code",
   "execution_count": 29,
   "id": "71094d60-0b5a-4d2d-b315-b591bf313c71",
   "metadata": {},
   "outputs": [
    {
     "data": {
      "text/html": [
       "<div>\n",
       "<style scoped>\n",
       "    .dataframe tbody tr th:only-of-type {\n",
       "        vertical-align: middle;\n",
       "    }\n",
       "\n",
       "    .dataframe tbody tr th {\n",
       "        vertical-align: top;\n",
       "    }\n",
       "\n",
       "    .dataframe thead th {\n",
       "        text-align: right;\n",
       "    }\n",
       "</style>\n",
       "<table border=\"1\" class=\"dataframe\">\n",
       "  <thead>\n",
       "    <tr style=\"text-align: right;\">\n",
       "      <th></th>\n",
       "      <th>Year</th>\n",
       "      <th>Price</th>\n",
       "    </tr>\n",
       "  </thead>\n",
       "  <tbody>\n",
       "    <tr>\n",
       "      <th>count</th>\n",
       "      <td>3.0</td>\n",
       "      <td>3.000000</td>\n",
       "    </tr>\n",
       "    <tr>\n",
       "      <th>mean</th>\n",
       "      <td>2021.0</td>\n",
       "      <td>25000.416667</td>\n",
       "    </tr>\n",
       "    <tr>\n",
       "      <th>std</th>\n",
       "      <td>1.0</td>\n",
       "      <td>5000.125013</td>\n",
       "    </tr>\n",
       "    <tr>\n",
       "      <th>min</th>\n",
       "      <td>2020.0</td>\n",
       "      <td>20000.500000</td>\n",
       "    </tr>\n",
       "    <tr>\n",
       "      <th>25%</th>\n",
       "      <td>2020.5</td>\n",
       "      <td>22500.250000</td>\n",
       "    </tr>\n",
       "    <tr>\n",
       "      <th>50%</th>\n",
       "      <td>2021.0</td>\n",
       "      <td>25000.000000</td>\n",
       "    </tr>\n",
       "    <tr>\n",
       "      <th>75%</th>\n",
       "      <td>2021.5</td>\n",
       "      <td>27500.375000</td>\n",
       "    </tr>\n",
       "    <tr>\n",
       "      <th>max</th>\n",
       "      <td>2022.0</td>\n",
       "      <td>30000.750000</td>\n",
       "    </tr>\n",
       "  </tbody>\n",
       "</table>\n",
       "</div>"
      ],
      "text/plain": [
       "         Year         Price\n",
       "count     3.0      3.000000\n",
       "mean   2021.0  25000.416667\n",
       "std       1.0   5000.125013\n",
       "min    2020.0  20000.500000\n",
       "25%    2020.5  22500.250000\n",
       "50%    2021.0  25000.000000\n",
       "75%    2021.5  27500.375000\n",
       "max    2022.0  30000.750000"
      ]
     },
     "execution_count": 29,
     "metadata": {},
     "output_type": "execute_result"
    }
   ],
   "source": [
    "# 6) Describe your current car sales Data Frame using describe () \n",
    "Combined.describe()"
   ]
  },
  {
   "cell_type": "code",
   "execution_count": 30,
   "id": "e2fe8101-44f3-4bb3-a1ff-1db09658a53b",
   "metadata": {},
   "outputs": [
    {
     "name": "stdout",
     "output_type": "stream",
     "text": [
      "<class 'pandas.core.frame.DataFrame'>\n",
      "RangeIndex: 3 entries, 0 to 2\n",
      "Data columns (total 4 columns):\n",
      " #   Column  Non-Null Count  Dtype  \n",
      "---  ------  --------------  -----  \n",
      " 0   car     3 non-null      object \n",
      " 1   colors  3 non-null      object \n",
      " 2   Year    3 non-null      int64  \n",
      " 3   Price   3 non-null      float64\n",
      "dtypes: float64(1), int64(1), object(2)\n",
      "memory usage: 228.0+ bytes\n"
     ]
    }
   ],
   "source": [
    "# 7) Get information about your Data Frame using info () \n",
    "Combined.info()"
   ]
  },
  {
   "cell_type": "code",
   "execution_count": 31,
   "id": "46919336-1ab3-47d0-a45f-d9e427492a11",
   "metadata": {},
   "outputs": [
    {
     "name": "stdout",
     "output_type": "stream",
     "text": [
      "0     1\n",
      "1     5\n",
      "2    12\n",
      "3    10\n",
      "4     3\n",
      "dtype: int64\n",
      "6.2\n"
     ]
    }
   ],
   "source": [
    "# 8) Create a Series of different numbers and find the mean of them \n",
    "series=pd.Series([1,5,12,10,3])\n",
    "print(series)\n",
    "mean_value=series.mean()\n",
    "print(mean_value)"
   ]
  },
  {
   "cell_type": "code",
   "execution_count": 32,
   "id": "3138092c-24f2-4f23-a775-7df3628a7e4a",
   "metadata": {},
   "outputs": [
    {
     "name": "stdout",
     "output_type": "stream",
     "text": [
      "0    10\n",
      "1    20\n",
      "2    30\n",
      "3    40\n",
      "4    50\n",
      "dtype: int64\n",
      "150\n"
     ]
    }
   ],
   "source": [
    "# 9) Create a Series of different numbers and find the sum of them \n",
    "series=pd.Series([10,20,30,40,50])\n",
    "print(series)\n",
    "Total=series.sum()\n",
    "print(Total)\n"
   ]
  },
  {
   "cell_type": "code",
   "execution_count": 33,
   "id": "01fa75fb-8c63-4ba5-8409-d22c01af5e8e",
   "metadata": {},
   "outputs": [
    {
     "data": {
      "text/plain": [
       "['car', 'colors', 'Year', 'Price']"
      ]
     },
     "execution_count": 33,
     "metadata": {},
     "output_type": "execute_result"
    }
   ],
   "source": [
    "# 10) List out all the column names of the car sales Data Frame\n",
    "Combined.columns.tolist()\n"
   ]
  },
  {
   "cell_type": "code",
   "execution_count": 34,
   "id": "78a892d4-e21a-42f1-8a41-4413940e84c7",
   "metadata": {},
   "outputs": [
    {
     "data": {
      "text/plain": [
       "(3, 4)"
      ]
     },
     "execution_count": 34,
     "metadata": {},
     "output_type": "execute_result"
    }
   ],
   "source": [
    "# 11) Find the length of the car sales Data Frame \n",
    "Combined.shape\n",
    "\n"
   ]
  },
  {
   "cell_type": "code",
   "execution_count": 35,
   "id": "a3241b53-adb6-454d-8008-61428ef18735",
   "metadata": {},
   "outputs": [
    {
     "data": {
      "text/html": [
       "<div>\n",
       "<style scoped>\n",
       "    .dataframe tbody tr th:only-of-type {\n",
       "        vertical-align: middle;\n",
       "    }\n",
       "\n",
       "    .dataframe tbody tr th {\n",
       "        vertical-align: top;\n",
       "    }\n",
       "\n",
       "    .dataframe thead th {\n",
       "        text-align: right;\n",
       "    }\n",
       "</style>\n",
       "<table border=\"1\" class=\"dataframe\">\n",
       "  <thead>\n",
       "    <tr style=\"text-align: right;\">\n",
       "      <th></th>\n",
       "      <th>car</th>\n",
       "      <th>colors</th>\n",
       "      <th>Year</th>\n",
       "      <th>Price</th>\n",
       "    </tr>\n",
       "  </thead>\n",
       "  <tbody>\n",
       "    <tr>\n",
       "      <th>0</th>\n",
       "      <td>KIA</td>\n",
       "      <td>Red</td>\n",
       "      <td>2020</td>\n",
       "      <td>20000.50</td>\n",
       "    </tr>\n",
       "    <tr>\n",
       "      <th>1</th>\n",
       "      <td>THAR</td>\n",
       "      <td>Green</td>\n",
       "      <td>2021</td>\n",
       "      <td>30000.75</td>\n",
       "    </tr>\n",
       "    <tr>\n",
       "      <th>2</th>\n",
       "      <td>BMW</td>\n",
       "      <td>Blue</td>\n",
       "      <td>2022</td>\n",
       "      <td>25000.00</td>\n",
       "    </tr>\n",
       "  </tbody>\n",
       "</table>\n",
       "</div>"
      ],
      "text/plain": [
       "    car colors  Year     Price\n",
       "0   KIA    Red  2020  20000.50\n",
       "1  THAR  Green  2021  30000.75\n",
       "2   BMW   Blue  2022  25000.00"
      ]
     },
     "execution_count": 35,
     "metadata": {},
     "output_type": "execute_result"
    }
   ],
   "source": [
    "# 12) Show the first 5 rows of the car sales Data Frame \n",
    "Combined.head()"
   ]
  },
  {
   "cell_type": "code",
   "execution_count": 42,
   "id": "a0d94fec-37c3-4dfa-b1e9-ac43fec3e1ba",
   "metadata": {},
   "outputs": [
    {
     "data": {
      "text/html": [
       "<div>\n",
       "<style scoped>\n",
       "    .dataframe tbody tr th:only-of-type {\n",
       "        vertical-align: middle;\n",
       "    }\n",
       "\n",
       "    .dataframe tbody tr th {\n",
       "        vertical-align: top;\n",
       "    }\n",
       "\n",
       "    .dataframe thead th {\n",
       "        text-align: right;\n",
       "    }\n",
       "</style>\n",
       "<table border=\"1\" class=\"dataframe\">\n",
       "  <thead>\n",
       "    <tr style=\"text-align: right;\">\n",
       "      <th></th>\n",
       "      <th>car</th>\n",
       "      <th>colors</th>\n",
       "      <th>Year</th>\n",
       "      <th>Price</th>\n",
       "    </tr>\n",
       "  </thead>\n",
       "  <tbody>\n",
       "    <tr>\n",
       "      <th>0</th>\n",
       "      <td>KIA</td>\n",
       "      <td>Red</td>\n",
       "      <td>2020</td>\n",
       "      <td>20000.50</td>\n",
       "    </tr>\n",
       "    <tr>\n",
       "      <th>1</th>\n",
       "      <td>THAR</td>\n",
       "      <td>Green</td>\n",
       "      <td>2021</td>\n",
       "      <td>30000.75</td>\n",
       "    </tr>\n",
       "    <tr>\n",
       "      <th>2</th>\n",
       "      <td>BMW</td>\n",
       "      <td>Blue</td>\n",
       "      <td>2022</td>\n",
       "      <td>25000.00</td>\n",
       "    </tr>\n",
       "  </tbody>\n",
       "</table>\n",
       "</div>"
      ],
      "text/plain": [
       "    car colors  Year     Price\n",
       "0   KIA    Red  2020  20000.50\n",
       "1  THAR  Green  2021  30000.75\n",
       "2   BMW   Blue  2022  25000.00"
      ]
     },
     "execution_count": 42,
     "metadata": {},
     "output_type": "execute_result"
    }
   ],
   "source": [
    "# 13) Show the first 7 rows of the car sales Data Frame \n",
    "Combined.head(7)"
   ]
  },
  {
   "cell_type": "code",
   "execution_count": 37,
   "id": "50506042-6d02-46af-b31b-e3bea76fa938",
   "metadata": {},
   "outputs": [
    {
     "data": {
      "text/html": [
       "<div>\n",
       "<style scoped>\n",
       "    .dataframe tbody tr th:only-of-type {\n",
       "        vertical-align: middle;\n",
       "    }\n",
       "\n",
       "    .dataframe tbody tr th {\n",
       "        vertical-align: top;\n",
       "    }\n",
       "\n",
       "    .dataframe thead th {\n",
       "        text-align: right;\n",
       "    }\n",
       "</style>\n",
       "<table border=\"1\" class=\"dataframe\">\n",
       "  <thead>\n",
       "    <tr style=\"text-align: right;\">\n",
       "      <th></th>\n",
       "      <th>car</th>\n",
       "      <th>colors</th>\n",
       "      <th>Year</th>\n",
       "      <th>Price</th>\n",
       "    </tr>\n",
       "  </thead>\n",
       "  <tbody>\n",
       "    <tr>\n",
       "      <th>0</th>\n",
       "      <td>KIA</td>\n",
       "      <td>Red</td>\n",
       "      <td>2020</td>\n",
       "      <td>20000.50</td>\n",
       "    </tr>\n",
       "    <tr>\n",
       "      <th>1</th>\n",
       "      <td>THAR</td>\n",
       "      <td>Green</td>\n",
       "      <td>2021</td>\n",
       "      <td>30000.75</td>\n",
       "    </tr>\n",
       "    <tr>\n",
       "      <th>2</th>\n",
       "      <td>BMW</td>\n",
       "      <td>Blue</td>\n",
       "      <td>2022</td>\n",
       "      <td>25000.00</td>\n",
       "    </tr>\n",
       "  </tbody>\n",
       "</table>\n",
       "</div>"
      ],
      "text/plain": [
       "    car colors  Year     Price\n",
       "0   KIA    Red  2020  20000.50\n",
       "1  THAR  Green  2021  30000.75\n",
       "2   BMW   Blue  2022  25000.00"
      ]
     },
     "execution_count": 37,
     "metadata": {},
     "output_type": "execute_result"
    }
   ],
   "source": [
    "# 14) Show the bottom 5 rows of the car sales Data Frame \n",
    "Combined.tail()"
   ]
  },
  {
   "cell_type": "code",
   "execution_count": 38,
   "id": "cb44b951-baad-4341-80ee-5b4999b60cc0",
   "metadata": {},
   "outputs": [
    {
     "data": {
      "text/plain": [
       "car           BMW\n",
       "colors       Blue\n",
       "Year         2022\n",
       "Price     25000.0\n",
       "Name: 2, dtype: object"
      ]
     },
     "execution_count": 38,
     "metadata": {},
     "output_type": "execute_result"
    }
   ],
   "source": [
    "# 15) Use. loc to select the row at index 3 of the car sales Data Frame\n",
    "Combined.loc[2]"
   ]
  },
  {
   "cell_type": "code",
   "execution_count": 39,
   "id": "05c3d946-6223-442b-acc9-794743fbed7e",
   "metadata": {},
   "outputs": [
    {
     "data": {
      "text/plain": [
       "car           BMW\n",
       "colors       Blue\n",
       "Year         2022\n",
       "Price     25000.0\n",
       "Name: 2, dtype: object"
      ]
     },
     "execution_count": 39,
     "metadata": {},
     "output_type": "execute_result"
    }
   ],
   "source": [
    "# 16) Use. iloc to select the row at position 3 of the car sales Data Frame \n",
    "Combined.iloc[2]\n"
   ]
  },
  {
   "cell_type": "code",
   "execution_count": 40,
   "id": "ea6ab2e5-e12a-415d-ba4c-5bf923d7622c",
   "metadata": {},
   "outputs": [
    {
     "name": "stdout",
     "output_type": "stream",
     "text": [
      "Doors   2  4\n",
      "Make        \n",
      "Ford    3  0\n",
      "Honda   1  2\n",
      "Toyota  0  4\n"
     ]
    }
   ],
   "source": [
    "# 17) Create a crosstab of the Make and Doors columns. \n",
    "data = {\n",
    "    'Make': ['Toyota', 'Honda', 'Ford', 'Toyota', 'Ford', \n",
    "             'Honda', 'Toyota', 'Ford', 'Honda', 'Toyota'],\n",
    "    'Doors': [4, 2, 2, 4, 2, 4, 4, 2, 4, 4],\n",
    "}\n",
    "df=pd.DataFrame(data)\n",
    "# print(df,\"======\")\n",
    "Cross_tab=pd.crosstab(df[\"Make\"],df[\"Doors\"])#.reset_index()\n",
    "print(Cross_tab)\n"
   ]
  },
  {
   "cell_type": "code",
   "execution_count": null,
   "id": "62601d70-27f2-4097-9308-d91d0bf9bca0",
   "metadata": {},
   "outputs": [],
   "source": []
  }
 ],
 "metadata": {
  "kernelspec": {
   "display_name": "Python 3 (ipykernel)",
   "language": "python",
   "name": "python3"
  },
  "language_info": {
   "codemirror_mode": {
    "name": "ipython",
    "version": 3
   },
   "file_extension": ".py",
   "mimetype": "text/x-python",
   "name": "python",
   "nbconvert_exporter": "python",
   "pygments_lexer": "ipython3",
   "version": "3.13.1"
  }
 },
 "nbformat": 4,
 "nbformat_minor": 5
}
