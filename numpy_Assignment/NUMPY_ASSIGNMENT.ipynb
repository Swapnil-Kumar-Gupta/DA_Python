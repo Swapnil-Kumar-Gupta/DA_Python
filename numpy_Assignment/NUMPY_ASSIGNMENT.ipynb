{
 "cells": [
  {
   "cell_type": "code",
   "execution_count": 1,
   "id": "e508c021-121b-46ba-bb29-a6155c35b5ea",
   "metadata": {},
   "outputs": [],
   "source": [
    "import numpy as np\n",
    "import pandas as pd"
   ]
  },
  {
   "cell_type": "code",
   "execution_count": 2,
   "id": "7211798a-54b7-4977-ad7b-26b4a783e5dc",
   "metadata": {},
   "outputs": [
    {
     "name": "stdout",
     "output_type": "stream",
     "text": [
      "[[0. 1. 2.]\n",
      " [3. 4. 5.]\n",
      " [6. 7. 8.]]\n"
     ]
    }
   ],
   "source": [
    "# 1. How to Creating a 3x3 Identity Matrix with Float Data Type?\n",
    "array1=np.arange(9, dtype=float).reshape(3,3)\n",
    "print(array1)"
   ]
  },
  {
   "cell_type": "code",
   "execution_count": 3,
   "id": "edb01028-1f63-4e14-a6b5-46f36525c568",
   "metadata": {},
   "outputs": [
    {
     "name": "stdout",
     "output_type": "stream",
     "text": [
      "[0.12309632]\n"
     ]
    }
   ],
   "source": [
    "# 2. Create a 1D Array with Random Values between 0 and 1.\n",
    "Array1D=np.random.rand(1)\n",
    "print(Array1D)"
   ]
  },
  {
   "cell_type": "code",
   "execution_count": 4,
   "id": "309e2d83-679b-430e-980b-c56cefb20c2d",
   "metadata": {},
   "outputs": [
    {
     "name": "stdout",
     "output_type": "stream",
     "text": [
      "[[3 4 3]\n",
      " [4 2 1]\n",
      " [4 1 3]]\n"
     ]
    }
   ],
   "source": [
    "# 3. Create a 2D Array with Random Integer Values.\n",
    "Array2D=np.random.randint(1,5,(3,3))\n",
    "print(Array2D)"
   ]
  },
  {
   "cell_type": "code",
   "execution_count": 5,
   "id": "4825d4d1-513c-4823-8edd-47f2261b1065",
   "metadata": {},
   "outputs": [
    {
     "name": "stdout",
     "output_type": "stream",
     "text": [
      "[[0 1 2 3 4]\n",
      " [1 2 3 4 5]\n",
      " [2 3 4 5 6]\n",
      " [3 4 5 6 7]\n",
      " [4 5 6 7 8]]\n"
     ]
    },
    {
     "data": {
      "text/plain": [
       "7"
      ]
     },
     "execution_count": 5,
     "metadata": {},
     "output_type": "execute_result"
    }
   ],
   "source": [
    "# 4. Creating an Array Using a Custom Function.\n",
    "def custom_func(i, j): #(i or j) value 0 to n tak\n",
    "    return i + j\n",
    "\n",
    "arr = np.fromfunction(custom_func, (5, 5), dtype=int) #fromfunction for value getting from the funti\n",
    "print(arr)\n",
    "custom_func(2,5)\n"
   ]
  },
  {
   "cell_type": "code",
   "execution_count": 6,
   "id": "ae76cbb0-dd04-4a29-bc57-11485b7ddf00",
   "metadata": {},
   "outputs": [
    {
     "name": "stdout",
     "output_type": "stream",
     "text": [
      "[[1 2 3]\n",
      " [4 5 6]]\n"
     ]
    }
   ],
   "source": [
    "# 5. Reshaping a 1D Array into a 2D Array\n",
    "array1d=np.array([1,2,3,4,5,6])\n",
    "array2d=array1d.reshape(2,3)\n",
    "print(array2d)\n"
   ]
  },
  {
   "cell_type": "code",
   "execution_count": 7,
   "id": "f7834d1e-03f2-4256-9540-b8ae6682113e",
   "metadata": {},
   "outputs": [
    {
     "name": "stdout",
     "output_type": "stream",
     "text": [
      "[[1. 1. 1.]\n",
      " [1. 1. 1.]\n",
      " [1. 1. 1.]]\n"
     ]
    }
   ],
   "source": [
    "# 6.How to Creating a 3x3 Array of Ones?\n",
    "arr=np.ones((3,3))\n",
    "print(arr)\n"
   ]
  },
  {
   "cell_type": "code",
   "execution_count": 8,
   "id": "cf438d55-ded0-4ce0-887e-965e1f1a7bc3",
   "metadata": {},
   "outputs": [
    {
     "data": {
      "text/plain": [
       "array([2, 4])"
      ]
     },
     "execution_count": 8,
     "metadata": {},
     "output_type": "execute_result"
    }
   ],
   "source": [
    "\n",
    "# 7. How to get the common items between two pythons\n",
    "# NumPy? Input:\n",
    "a = np. array ([1,2,3,2,3,4,3,4,5,6])\n",
    "b = np. array ([7,2,10,2,7,4,9,4,9,8])\n",
    "# Expected Output:\n",
    "# array ([2, 4])\n",
    "c=np.intersect1d(a,b)\n",
    "c"
   ]
  },
  {
   "cell_type": "code",
   "execution_count": 9,
   "id": "27c66d18-8fb0-4a12-80f4-3e856b6f30cd",
   "metadata": {},
   "outputs": [
    {
     "name": "stdout",
     "output_type": "stream",
     "text": [
      "[1 2 3 4]\n"
     ]
    }
   ],
   "source": [
    "\n",
    "# 8. From array a remove all items present in\n",
    "# array b Input:\n",
    "a = np. array ([1,2,3,4,5])\n",
    "b = np. array ([5,6,7,8,9])\n",
    "# Expected Output:\n",
    "# array ([1,2,3,4]\n",
    "c=np.setdiff1d(a,b)\n",
    "print(c)"
   ]
  },
  {
   "cell_type": "code",
   "execution_count": 10,
   "id": "1a7ee7d8-8e02-4d18-b9ae-8847956f8a86",
   "metadata": {},
   "outputs": [],
   "source": [
    "# 9. Limit the number of items printed in python NumPy array a to a maximum of\n",
    "# 6 elements.\n",
    "# a = np. arrange (15)\n",
    "# Expected Output:\n",
    "# array ([ 0, 1, 2, ..., 12, 13, 14]"
   ]
  },
  {
   "cell_type": "code",
   "execution_count": 11,
   "id": "f14e84d1-6eed-4ee7-818c-ae2598651d32",
   "metadata": {},
   "outputs": [
    {
     "data": {
      "text/plain": [
       "array([1., 2., 3., 5., 6., 7.])"
      ]
     },
     "execution_count": 11,
     "metadata": {},
     "output_type": "execute_result"
    }
   ],
   "source": [
    "# 10. Drop all nan values from a 1D NumPy \n",
    "array1d=np. array ([1,2,3, np.nan,5,6,7, np.nan]) \n",
    "array1d_clean = array1d[~np.isnan(array1d)]\n",
    "array1d_clean"
   ]
  },
  {
   "cell_type": "code",
   "execution_count": 12,
   "id": "624c960e-e827-435d-a99b-0267f3bc4673",
   "metadata": {},
   "outputs": [
    {
     "data": {
      "text/plain": [
       "array([[ 1,  2,  3,  4,  5],\n",
       "       [ 6,  7,  8,  9, 10],\n",
       "       [11, 12, 13, 14, 15],\n",
       "       [16, 17, 18, 19, 20]])"
      ]
     },
     "execution_count": 12,
     "metadata": {},
     "output_type": "execute_result"
    }
   ],
   "source": [
    " # 11. Question: Create a 1D NumPy array of the first 20 natural numbers and a \n",
    "# 2D NumPy array of shape (4, 5) with values ranging from 1 to 20.\n",
    "array1d=np.array([1,2,3,4,5,6,7,8,9,10,11,12,13,14,15,16,17,18,19,20])\n",
    "array2d=array1d.reshape(4,5)\n",
    "array2d"
   ]
  },
  {
   "cell_type": "code",
   "execution_count": 13,
   "id": "1c0c857c-5694-4bfa-8341-7bd92d7564f0",
   "metadata": {},
   "outputs": [
    {
     "name": "stdout",
     "output_type": "stream",
     "text": [
      "[[[ 0  1  2  3]\n",
      "  [ 4  5  6  7]\n",
      "  [ 8  9 10 11]]\n",
      "\n",
      " [[12 13 14 15]\n",
      "  [16 17 18 19]\n",
      "  [20 21 22 23]]]\n",
      "(2, 3, 4)\n",
      "24\n",
      "3\n",
      "int64\n",
      "[[[ 0.  1.  2.  3.]\n",
      "  [ 4.  5.  6.  7.]\n",
      "  [ 8.  9. 10. 11.]]\n",
      "\n",
      " [[12. 13. 14. 15.]\n",
      "  [16. 17. 18. 19.]\n",
      "  [20. 21. 22. 23.]]]\n",
      "float64\n"
     ]
    }
   ],
   "source": [
    "# 12. Question: Given a 3D NumPy array of shape (2, 3, 4), find its shape, size, number of dimensions, and data type. \n",
    "# Change its data type to float64 and verify the change.\n",
    "array3d=np.arange(24).reshape(2,3,4)\n",
    "print(array3d)\n",
    "print(array3d.shape)\n",
    "print(array3d.size)\n",
    "print(array3d.ndim)\n",
    "print(array3d.dtype)\n",
    "changed=(array3d.astype(float))\n",
    "print(changed)\n",
    "print(changed.dtype)\n",
    "\n"
   ]
  },
  {
   "cell_type": "code",
   "execution_count": 14,
   "id": "b5bec590-7996-4726-8b1b-19302933513e",
   "metadata": {},
   "outputs": [
    {
     "name": "stdout",
     "output_type": "stream",
     "text": [
      "[ 0  1  2  3  4  5  6  7  8  9 10 11]\n",
      "[[ 0  1  2  3]\n",
      " [ 4  5  6  7]\n",
      " [ 8  9 10 11]]\n",
      "[ 0  1  2  3  4  5  6  7  8  9 10 11]\n",
      "True\n"
     ]
    }
   ],
   "source": [
    "# 13. Question: Reshape a 1D array of 12 elements into a 3x4 2D array and then \n",
    "# flatten it back into a 1D array using ravel (). Verify that the flattened array matches the original. \n",
    "array1d=np.arange(12)\n",
    "print(array1d)\n",
    "array2d=array1d.reshape(3,4)\n",
    "print(array2d)\n",
    "flattened_array = array2d.ravel()\n",
    "print(flattened_array)\n",
    "print(np.array_equal(array1d,flattened_array))\n"
   ]
  },
  {
   "cell_type": "code",
   "execution_count": 15,
   "id": "efe64f82-09e3-4700-b915-7d26caab4e9c",
   "metadata": {},
   "outputs": [
    {
     "name": "stdout",
     "output_type": "stream",
     "text": [
      "[1 2 3]\n",
      "[4 5 6]\n",
      "[5 7 9]\n",
      "[-3 -3 -3]\n",
      "[ 4 10 18]\n",
      "[0.25 0.4  0.5 ]\n",
      "[inf inf inf]\n"
     ]
    },
    {
     "name": "stderr",
     "output_type": "stream",
     "text": [
      "C:\\Users\\Swapnil\\AppData\\Local\\Temp\\ipykernel_25740\\1840070595.py:11: RuntimeWarning: divide by zero encountered in divide\n",
      "  g=a/0\n"
     ]
    }
   ],
   "source": [
    "# 14. Question: Given two arrays, a = np. array ([1, 2, 3]) and b = np. array ([4,5, 6]), perform element-wise addition, subtraction,\n",
    "# multiplication, and division. Explain the behavior when dividing by zero.\n",
    "a = np. array ([1, 2, 3]) \n",
    "b = np. array ([4,5, 6])\n",
    "print(a)\n",
    "print(b)\n",
    "c=a+b\n",
    "d=a-b\n",
    "e=a*b\n",
    "f=a/b\n",
    "g=a/0\n",
    "print(c)\n",
    "print(d)\n",
    "print(e)\n",
    "print(f)\n",
    "print(g)"
   ]
  },
  {
   "cell_type": "code",
   "execution_count": 16,
   "id": "e1b71d2d-b838-459d-ab20-eb2cf47880f8",
   "metadata": {},
   "outputs": [
    {
     "name": "stdout",
     "output_type": "stream",
     "text": [
      "[10 20 30]\n",
      "[[1]\n",
      " [2]\n",
      " [3]]\n",
      "[[11 21 31]\n",
      " [12 22 32]\n",
      " [13 23 33]]\n"
     ]
    }
   ],
   "source": [
    "# 15. Question: cand a 1D array of length 3. Perform element-wise addition using broadcasting.\n",
    "# Explain how broadcasting rules apply in this scenario. \n",
    "array1D=np.array([10, 20, 30])\n",
    "\n",
    "array2D=np.array([[1],[2],[3]])\n",
    "print(array1D)\n",
    "print(array2D)\n",
    "Broadcasted=array1D+array2D\n",
    "print(Broadcasted)\n"
   ]
  },
  {
   "cell_type": "code",
   "execution_count": 17,
   "id": "40f0f69c-f7cc-437c-b681-7b6d5326eef6",
   "metadata": {},
   "outputs": [
    {
     "name": "stdout",
     "output_type": "stream",
     "text": [
      "[[8 7 9]\n",
      " [6 2 1]\n",
      " [9 0 5]]\n",
      "[[ True  True  True]\n",
      " [ True False False]\n",
      " [ True False False]]\n",
      "[[5 5 5]\n",
      " [5 2 1]\n",
      " [5 0 5]]\n"
     ]
    }
   ],
   "source": [
    "# 16. Question: Generate a random 2D array of integers between 0 and 10. Use conditional operators to create a Boolean mask identifying\n",
    "# elements greater than 5. Replace all elements greater than 5 with the value 5.\n",
    "array2D=np.random.randint(0,11,(3,3))\n",
    "print(array2D)\n",
    "comparision=array2D>5\n",
    "print(comparision)\n",
    "array2D[comparision]=5\n",
    "print(array2D)\n"
   ]
  },
  {
   "cell_type": "code",
   "execution_count": 18,
   "id": "51e15905-ec50-4534-ad68-1b2d672aa561",
   "metadata": {},
   "outputs": [
    {
     "name": "stdout",
     "output_type": "stream",
     "text": [
      "[[ 7  2  6 10]\n",
      " [ 6  4  7  6]\n",
      " [ 2  7  8  8]\n",
      " [ 1  6  1  9]]\n",
      "[6 4 7 6]\n",
      "[1 6 1 9]\n",
      "[[7 2]\n",
      " [6 4]]\n"
     ]
    }
   ],
   "source": [
    "# 17. Question: Given a 4x4 array of random integers, use indexing and slicing to extract: \n",
    "# o The entire second row \n",
    "# o The last column \n",
    "# o The subarray consisting of the first two rows and first two columns \n",
    "array=np.random.randint(1,11,(4,4)).astype(int)\n",
    "print(array)\n",
    "print(array[1])\n",
    "print(array[3])\n",
    "print(array[0:2,0:2])\n"
   ]
  },
  {
   "cell_type": "code",
   "execution_count": 19,
   "id": "636016c0-5739-4b44-8534-1142d7a54b74",
   "metadata": {},
   "outputs": [],
   "source": [
    "# 18. Question: Describe a practical example where NumPy can be used in EDA, AI, ML, and DL, and implement a NumPy solution for a simple task in each area.\n",
    "# 1. EDA (Exploratory Data Analysis): \n",
    "# Use:Summarizing data (mean, std, etc.)  \n",
    "# Example Task:Calculate mean & std of sample data  \n",
    "# data = np.array([10, 20, 30, 40, 50])\n",
    "# print(\"Mean:\", np.mean(data))\n",
    "# print(\"Std Dev:\", np.std(data))\n",
    "\n",
    "# 2. AI (Artificial Intelligence):\n",
    "# Use:Rule-based logic operations  \n",
    "# Example Task:Apply condition-based decision\n",
    "# scores = np.array([0.2, 0.8, 0.6])\n",
    "# decision = scores > 0.5\n",
    "# print(\"Decision:\", decision)  \n",
    "\n",
    "# 3. ML (Machine Learning): \n",
    "# Use:Data normalization before training  \n",
    "# Example Task:Min-Max Scaling\n",
    "# features = np.array([2, 4, 6, 8])\n",
    "# scaled = (features - np.min(features)) / (np.max(features) - np.min(features))\n",
    "# print(\"Scaled:\", scaled)\n",
    "\n",
    "# 4. DL (Deep Learning):  \n",
    "# Use:Matrix ops in neural nets  \n",
    "# Example Task:Matrix multiplication (dot product)\n",
    "# X = np.array([[1, 2], [3, 4]])\n",
    "# W = np.array([[0.5], [1]])\n",
    "# output = np.dot(X, W)\n",
    "# print(\"Dot Product (DL output):\\n\", output)\n"
   ]
  },
  {
   "cell_type": "code",
   "execution_count": 20,
   "id": "02a69b1b-87a6-448a-b200-7c345962c972",
   "metadata": {},
   "outputs": [
    {
     "name": "stdout",
     "output_type": "stream",
     "text": [
      "[[ 8  8 10  7]\n",
      " [ 5  4  6 10]\n",
      " [ 5  4  1  3]\n",
      " [ 5  3  9  8]]\n"
     ]
    }
   ],
   "source": [
    "# 19. Question: Create a random 4x4 matrix and use NumPy to compute its eigenvalues and eigenvectors. Verify the eigenvalues by reconstructing the \n",
    "# matrix. \n",
    "randarray=np.random.randint(1,11,(4,4))\n",
    "print(randarray)\n",
    "#❓❓❓❓❓❓❓❓❓❓❓❓❓❓❓❓❓ sir se puchna h"
   ]
  },
  {
   "cell_type": "code",
   "execution_count": 21,
   "id": "d7b4fa22-f5bf-44e3-b5f4-b42d74d15bef",
   "metadata": {},
   "outputs": [
    {
     "name": "stdout",
     "output_type": "stream",
     "text": [
      "[ 0  1  2  3  4  5  6  7  8  9 10 11 12 13 14 15 16 17 18 19 20 21 22 23\n",
      " 24 25 26]\n",
      "[[[ 0  1  2]\n",
      "  [ 3  4  5]\n",
      "  [ 6  7  8]]\n",
      "\n",
      " [[ 9 10 11]\n",
      "  [12 13 14]\n",
      "  [15 16 17]]\n",
      "\n",
      " [[18 19 20]\n",
      "  [21 22 23]\n",
      "  [24 25 26]]]\n",
      "[ 0  1  2  3  4  5  6  7  8  9 10 11 12 13 14 15 16 17 18 19 20 21 22 23\n",
      " 24 25 26]\n"
     ]
    }
   ],
   "source": [
    "# 20. Question: Create a 1D array of 27 elements and reshape it into a 3x3x3 3D array. Flatten it back into a 1D array and compare the flattened array \n",
    "# with the original. \n",
    "array1D=np.arange(27)\n",
    "print(array1D)\n",
    "aranged=array1D.reshape(3,3,3)\n",
    "print(aranged)\n",
    "flattend=aranged.ravel()\n",
    "print(flattend)\n",
    "\n"
   ]
  },
  {
   "cell_type": "code",
   "execution_count": 22,
   "id": "80258c7f-31fe-42dd-ac1f-165b5933b221",
   "metadata": {},
   "outputs": [
    {
     "name": "stdout",
     "output_type": "stream",
     "text": [
      "[[0 1 2]\n",
      " [3 4 5]]\n",
      "[[0 1 2 3]\n",
      " [4 5 6 7]]\n"
     ]
    }
   ],
   "source": [
    "# 21. Question: Perform matrix multiplication of two 2D arrays using np.dot ()and @. Compare the results and performance of both methods using a large \n",
    "# dataset. \n",
    "array2D_1=np.arange(6).reshape(2,3)\n",
    "print(array2D_1)\n",
    "array2D_2=np.arange(8).reshape(2,4)\n",
    "print(array2D_2)\n"
   ]
  },
  {
   "cell_type": "code",
   "execution_count": 23,
   "id": "aefe9a21-87b9-4c0f-9ac6-4c5ec8286362",
   "metadata": {},
   "outputs": [
    {
     "name": "stdout",
     "output_type": "stream",
     "text": [
      "[[[0 1 2 3]]\n",
      "\n",
      " [[4 5 6 7]]]\n",
      "[[0]\n",
      " [1]\n",
      " [2]\n",
      " [3]]\n",
      "[[[ 0  1  2  3]\n",
      "  [ 1  2  3  4]\n",
      "  [ 2  3  4  5]\n",
      "  [ 3  4  5  6]]\n",
      "\n",
      " [[ 4  5  6  7]\n",
      "  [ 5  6  7  8]\n",
      "  [ 6  7  8  9]\n",
      "  [ 7  8  9 10]]]\n"
     ]
    }
   ],
   "source": [
    "# 22. Question: Create a 3D array of shape (2, 1, 4) and a 2D array of shape (4, 1). Perform an element-wise operation using broadcasting\n",
    "# and explain the result. Use np. new axis to achieve the same result without broadcasting.\n",
    "array3D=np.arange(8).reshape(2,1,4)\n",
    "print(array3D)\n",
    "array2D=np.arange(4).reshape(4,1)\n",
    "print(array2D)\n",
    "new=array3D+array2D\n",
    "print(new)\n",
    "\n"
   ]
  },
  {
   "cell_type": "code",
   "execution_count": 24,
   "id": "33365dc9-69e6-4744-9d01-96def1e5f8ef",
   "metadata": {},
   "outputs": [
    {
     "name": "stdout",
     "output_type": "stream",
     "text": [
      "[[0.84842365 0.78728928 0.07317702]\n",
      " [0.66296035 0.27535947 0.79993699]]\n",
      "[[False False  True]\n",
      " [False  True False]]\n",
      "[[0.84842365 0.78728928 0.00535488]\n",
      " [0.66296035 0.07582284 0.79993699]]\n"
     ]
    }
   ],
   "source": [
    "# 23. Question: Generate a 2D array of random floats between 0 and 1. Use conditional operators to create a Boolean mask for values less than 0.5. \n",
    "# Replace these values with their squares and leave the rest unchanged. \n",
    "Array2D=np.random.rand(2,3)\n",
    "print(Array2D)\n",
    "mask=Array2D<0.5\n",
    "print(mask)\n",
    "Array2D[mask]=Array2D[mask]**2\n",
    "print(Array2D)\n"
   ]
  },
  {
   "cell_type": "code",
   "execution_count": 25,
   "id": "5b9199ee-7430-4569-b864-c976dddd4b30",
   "metadata": {},
   "outputs": [
    {
     "name": "stdout",
     "output_type": "stream",
     "text": [
      "[[ 0  1  2  3  4]\n",
      " [ 5  6  7  8  9]\n",
      " [10 11 12 13 14]\n",
      " [15 16 17 18 19]\n",
      " [20 21 22 23 24]]\n"
     ]
    }
   ],
   "source": [
    "# 24. Question: Given a 5x5 array of sequential integers, use slicing to: \n",
    "# o Extract the diagonal elements \n",
    "# o Replace the elements of the middle row with zeros \n",
    "# o Flip the array vertically and horizontally \n",
    "Array=np.arange(25).reshape(5,5)\n",
    "print(Array)\n",
    "\n",
    "\n"
   ]
  },
  {
   "cell_type": "code",
   "execution_count": 37,
   "id": "14d04a4a-ce1d-4221-bc6d-73b03c63b06b",
   "metadata": {},
   "outputs": [
    {
     "name": "stdout",
     "output_type": "stream",
     "text": [
      "[[[[16 86 51 39 67]\n",
      "   [36 11 65 79 41]\n",
      "   [64 80 33 47 37]\n",
      "   [58 29 60 56 22]]\n",
      "\n",
      "  [[83 46 24 15 12]\n",
      "   [46 77 91 75 60]\n",
      "   [ 8 40 57 90 55]\n",
      "   [67 97 51 78  8]]\n",
      "\n",
      "  [[17 15 26 52 29]\n",
      "   [14 85 96  6 13]\n",
      "   [81 50 96 97 48]\n",
      "   [92 18 73 50 92]]]\n",
      "\n",
      "\n",
      " [[[33 83 61 47 26]\n",
      "   [ 7 75 43 21 95]\n",
      "   [30 12 38 32  1]\n",
      "   [ 0 87  0 11 61]]\n",
      "\n",
      "  [[86 98 43 79 39]\n",
      "   [88 94 27 39 60]\n",
      "   [91 92 80 54 69]\n",
      "   [64 84 47 12 56]]\n",
      "\n",
      "  [[81  4 31  1 94]\n",
      "   [ 2 28 18 12  6]\n",
      "   [45 78 38 55 18]\n",
      "   [12 26 62 29 71]]]]\n",
      "[[[[64 80 33]\n",
      "   [58 29 60]]\n",
      "\n",
      "  [[ 8 40 57]\n",
      "   [67 97 51]]]\n",
      "\n",
      "\n",
      " [[[30 12 38]\n",
      "   [ 0 87  0]]\n",
      "\n",
      "  [[91 92 80]\n",
      "   [64 84 47]]]]\n"
     ]
    }
   ],
   "source": [
    "# 25. Question: Create a 4D array of shape (2, 3, 4, 5) with random integers. Use advanced slicing to extract a subarray and compute the mean along a \n",
    "# specified axis. \n",
    "Array4D=np.random.randint(0,101,(2,3,4,5))\n",
    "print(Array4D)\n",
    "\n"
   ]
  },
  {
   "cell_type": "code",
   "execution_count": 44,
   "id": "503aa00c-930f-4f99-8575-3d917f1c043d",
   "metadata": {},
   "outputs": [
    {
     "name": "stdout",
     "output_type": "stream",
     "text": [
      "[[  0   1   2   3   4   5   6   7   8   9  10  11  12  13  14  15  16  17\n",
      "   18  19]\n",
      " [ 20  21  22  23  24  25  26  27  28  29  30  31  32  33  34  35  36  37\n",
      "   38  39]\n",
      " [ 40  41  42  43  44  45  46  47  48  49  50  51  52  53  54  55  56  57\n",
      "   58  59]\n",
      " [ 60  61  62  63  64  65  66  67  68  69  70  71  72  73  74  75  76  77\n",
      "   78  79]\n",
      " [ 80  81  82  83  84  85  86  87  88  89  90  91  92  93  94  95  96  97\n",
      "   98  99]\n",
      " [100 101 102 103 104 105 106 107 108 109 110 111 112 113 114 115 116 117\n",
      "  118 119]\n",
      " [120 121 122 123 124 125 126 127 128 129 130 131 132 133 134 135 136 137\n",
      "  138 139]\n",
      " [140 141 142 143 144 145 146 147 148 149 150 151 152 153 154 155 156 157\n",
      "  158 159]\n",
      " [160 161 162 163 164 165 166 167 168 169 170 171 172 173 174 175 176 177\n",
      "  178 179]\n",
      " [180 181 182 183 184 185 186 187 188 189 190 191 192 193 194 195 196 197\n",
      "  198 199]] =============\n",
      "[[  0   1   2   3   4   5   6   7   8   9]\n",
      " [ 10  11  12  13  14  15  16  17  18  19]\n",
      " [ 20  21  22  23  24  25  26  27  28  29]\n",
      " [ 30  31  32  33  34  35  36  37  38  39]\n",
      " [ 40  41  42  43  44  45  46  47  48  49]\n",
      " [ 50  51  52  53  54  55  56  57  58  59]\n",
      " [ 60  61  62  63  64  65  66  67  68  69]\n",
      " [ 70  71  72  73  74  75  76  77  78  79]\n",
      " [ 80  81  82  83  84  85  86  87  88  89]\n",
      " [ 90  91  92  93  94  95  96  97  98  99]\n",
      " [100 101 102 103 104 105 106 107 108 109]\n",
      " [110 111 112 113 114 115 116 117 118 119]\n",
      " [120 121 122 123 124 125 126 127 128 129]\n",
      " [130 131 132 133 134 135 136 137 138 139]\n",
      " [140 141 142 143 144 145 146 147 148 149]\n",
      " [150 151 152 153 154 155 156 157 158 159]\n",
      " [160 161 162 163 164 165 166 167 168 169]\n",
      " [170 171 172 173 174 175 176 177 178 179]\n",
      " [180 181 182 183 184 185 186 187 188 189]\n",
      " [190 191 192 193 194 195 196 197 198 199]] =============\n",
      "[[  0   1   2   3   4   5   6   7   8   9  10  11  12  13  14  15  16  17\n",
      "   18  19  20  21  22  23  24  25  26  27  28  29  30  31  32  33  34  35\n",
      "   36  37  38  39]\n",
      " [ 40  41  42  43  44  45  46  47  48  49  50  51  52  53  54  55  56  57\n",
      "   58  59  60  61  62  63  64  65  66  67  68  69  70  71  72  73  74  75\n",
      "   76  77  78  79]\n",
      " [ 80  81  82  83  84  85  86  87  88  89  90  91  92  93  94  95  96  97\n",
      "   98  99 100 101 102 103 104 105 106 107 108 109 110 111 112 113 114 115\n",
      "  116 117 118 119]\n",
      " [120 121 122 123 124 125 126 127 128 129 130 131 132 133 134 135 136 137\n",
      "  138 139 140 141 142 143 144 145 146 147 148 149 150 151 152 153 154 155\n",
      "  156 157 158 159]\n",
      " [160 161 162 163 164 165 166 167 168 169 170 171 172 173 174 175 176 177\n",
      "  178 179 180 181 182 183 184 185 186 187 188 189 190 191 192 193 194 195\n",
      "  196 197 198 199]] ===========\n"
     ]
    }
   ],
   "source": [
    "# 26. Question:Given an array of shape(10, 20),reshape it to (20, 10) and (5, 40). Discuss the impact on the array's shape, size, and dimensionality.\n",
    "Array=np.arange(200).reshape(10,20)\n",
    "print(Array,\"=============\")\n",
    "array=Array.reshape(20,10)\n",
    "print(array,\"=============\")\n",
    "new_array=array.reshape(5,40)\n",
    "print(new_array,\"===========\")\n"
   ]
  },
  {
   "cell_type": "code",
   "execution_count": 60,
   "id": "bf7986c3-27e5-4467-b2b3-693d313fca50",
   "metadata": {},
   "outputs": [
    {
     "name": "stdout",
     "output_type": "stream",
     "text": [
      "[[72 31  4 ... 79 74 57]\n",
      " [67 99  3 ... 86 48 58]\n",
      " [27 60 18 ... 58 94 81]\n",
      " ...\n",
      " [10 28 27 ... 29 41 43]\n",
      " [97 22 43 ... 99 50 99]\n",
      " [43 74 38 ... 39 19 59]] ==========\n",
      "[[72 31  4 ... 86 48 58]\n",
      " [27 60 18 ... 85  3 82]\n",
      " [94 79 11 ... 18 25 88]\n",
      " ...\n",
      " [ 1 97 10 ... 96  5  2]\n",
      " [34 57 36 ... 29 41 43]\n",
      " [97 22 43 ... 39 19 59]] ===========\n",
      "[72 31  4 ... 39 19 59]\n"
     ]
    }
   ],
   "source": [
    "# 27. Question: Generate a large 2D array and demonstrate the use of np. reshape () and unravel () to manipulate its shape for various linear\n",
    "# algebra operations. \n",
    "array_2d = np.random.randint(1, 100,(100, 50))\n",
    "print(array_2d,\"==========\")\n",
    "reshaped=array_2d.reshape(50,100)\n",
    "print(reshaped,\"===========\")\n",
    "raveled=array_2d.ravel()\n",
    "print(raveled)\n",
    "######################Sir se puchna h??????????????????????❓❓❓❓❓❓❓❓"
   ]
  },
  {
   "cell_type": "code",
   "execution_count": 63,
   "id": "faee358f-368d-491d-baa9-d4e53abd2d57",
   "metadata": {},
   "outputs": [
    {
     "data": {
      "text/plain": [
       "array([[6, 6, 2, 2, 7, 3],\n",
       "       [1, 6, 1, 7, 4, 6],\n",
       "       [4, 7, 3, 5, 7, 8],\n",
       "       [9, 1, 3, 3, 9, 1],\n",
       "       [3, 6, 5, 8, 5, 9],\n",
       "       [8, 3, 7, 6, 2, 7]], dtype=int32)"
      ]
     },
     "execution_count": 63,
     "metadata": {},
     "output_type": "execute_result"
    }
   ],
   "source": [
    "# 28. Question:Given a 6x6 matrix,use advanced indexing and slicing to extract the upper triangular part of the matrix and set the lower triangular\n",
    "# part to zero. Verify the result. \n",
    "import numpy as np\n",
    "matrix = np.random.randint(1, 10, size=(6, 6))\n",
    "matrix\n",
    "\n",
    "\n"
   ]
  },
  {
   "cell_type": "code",
   "execution_count": null,
   "id": "19ee4021-c5ff-422e-8dd1-11d1f6b64520",
   "metadata": {},
   "outputs": [],
   "source": []
  }
 ],
 "metadata": {
  "kernelspec": {
   "display_name": "Python 3 (ipykernel)",
   "language": "python",
   "name": "python3"
  },
  "language_info": {
   "codemirror_mode": {
    "name": "ipython",
    "version": 3
   },
   "file_extension": ".py",
   "mimetype": "text/x-python",
   "name": "python",
   "nbconvert_exporter": "python",
   "pygments_lexer": "ipython3",
   "version": "3.13.1"
  }
 },
 "nbformat": 4,
 "nbformat_minor": 5
}
